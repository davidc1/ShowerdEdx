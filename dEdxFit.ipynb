{
 "cells": [
  {
   "cell_type": "code",
   "execution_count": 1,
   "metadata": {},
   "outputs": [
    {
     "name": "stdout",
     "output_type": "stream",
     "text": [
      "Welcome to JupyROOT 6.10/04\n"
     ]
    }
   ],
   "source": [
    "%load_ext autoreload\n",
    "%autoreload 2\n",
    "\n",
    "from math import pi\n",
    "from glob import glob\n",
    "\n",
    "import numpy as np\n",
    "import matplotlib.pyplot as plt\n",
    "\n",
    "from root_pandas import read_root"
   ]
  },
  {
   "cell_type": "code",
   "execution_count": 2,
   "metadata": {},
   "outputs": [],
   "source": [
    "import ROOT"
   ]
  },
  {
   "cell_type": "code",
   "execution_count": 3,
   "metadata": {},
   "outputs": [],
   "source": [
    "plt.rcParams.update({'font.size': 18})"
   ]
  },
  {
   "cell_type": "code",
   "execution_count": 4,
   "metadata": {},
   "outputs": [
    {
     "name": "stdout",
     "output_type": "stream",
     "text": [
      "(43858, 23)\n"
     ]
    },
    {
     "name": "stderr",
     "output_type": "stream",
     "text": [
      "Warning in <TClass::Init>: no dictionary for class ROOT::TIOFeatures is available\n"
     ]
    }
   ],
   "source": [
    "df_gamma = read_root('/home/david/data/MCC9/November/bnb_ncdelta_cosmics_shrreco.root', key=\"showerreco3dpandora/_rcshr_tree\")\n",
    "print(df_gamma.shape)"
   ]
  },
  {
   "cell_type": "code",
   "execution_count": 5,
   "metadata": {},
   "outputs": [
    {
     "name": "stdout",
     "output_type": "stream",
     "text": [
      "(185062, 23)\n"
     ]
    }
   ],
   "source": [
    "df_elec = read_root('/home/david/data/MCC9/November/bnb_bnbnue_cosmics_shrreco.root', key=\"showerreco3dpandora/_rcshr_tree\")\n",
    "print(df_elec.shape)"
   ]
  },
  {
   "cell_type": "code",
   "execution_count": 6,
   "metadata": {},
   "outputs": [
    {
     "name": "stdout",
     "output_type": "stream",
     "text": [
      "Index([u'_shr_x', u'_xtimeoffset', u'_xsceoffset', u'_shr_y', u'_shr_z',\n",
      "       u'_shr_dedx_pl0_v', u'_shr_dedx_pl1_v', u'_shr_dedx_pl2_v', u'_shr_e_v',\n",
      "       u'_shr_dedx_v', u'_shr_px', u'_shr_py', u'_shr_pz', u'_completeness',\n",
      "       u'_purity', u'_mc_shr_pdg', u'_mc_shr_e', u'_mc_shr_x', u'_mc_shr_y',\n",
      "       u'_mc_shr_z', u'_mc_shr_px', u'_mc_shr_py', u'_mc_shr_pz'],\n",
      "      dtype='object')\n"
     ]
    }
   ],
   "source": [
    "print df_elec.keys()"
   ]
  },
  {
   "cell_type": "code",
   "execution_count": 8,
   "metadata": {},
   "outputs": [],
   "source": [
    "df_elec_good = df_elec.query('_purity>0.1 and abs(_shr_pz) > 0.3')\n",
    "df_gamma_good = df_gamma.query('_mc_shr_pz*_shr_pz > 0.5 and abs(_shr_pz) > 0.3')"
   ]
  },
  {
   "cell_type": "code",
   "execution_count": 23,
   "metadata": {},
   "outputs": [],
   "source": [
    "dedx_all_gamma_v = df_gamma_good['_shr_dedx_v'].values\n",
    "dedx_gamma_v = []\n",
    "for dedxv in dedx_all_gamma_v:\n",
    "    for dedx in dedxv:\n",
    "        dedx_gamma_v.append(dedx)\n",
    "#print dedx_all_gamma_v.flatten('F') # this collapses an array like [[1,2],[3,4]] to 1D: [1,2,3,4]\n",
    "\n",
    "dedx_all_elec_v = np.array(df_elec_good['_shr_dedx_v'].values)\n",
    "#dedx_elec_v = dedx_all_elec_v.flatten() # this collapses an array like [[1,2],[3,4]] to 1D: [1,2,3,4]\n",
    "dedx_elec_v = []\n",
    "for dedxv in dedx_all_elec_v:\n",
    "    for dedx in dedxv:\n",
    "        dedx_elec_v.append(dedx)"
   ]
  },
  {
   "cell_type": "code",
   "execution_count": 31,
   "metadata": {},
   "outputs": [
    {
     "data": {
      "image/png": "[encoded data removed]",
      "text/plain": [
       "<Figure size 432x432 with 1 Axes>"
      ]
     },
     "metadata": {},
     "output_type": "display_data"
    }
   ],
   "source": [
    "fig = plt.figure(figsize=(6,6))\n",
    "BINS = np.linspace(0.1,10,50)\n",
    "plt.hist(dedx_gamma_v,bins=BINS,histtype='step',color='r',lw=2,normed=True,label='photons')\n",
    "plt.hist(dedx_elec_v ,bins=BINS,histtype='step',lw=2,color='b',normed=True,label='electrons')\n",
    "plt.grid()\n",
    "plt.xlabel('dE/dx [MeV/cm]')\n",
    "plt.legend(loc=1)\n",
    "plt.show()"
   ]
  },
  {
   "cell_type": "code",
   "execution_count": 32,
   "metadata": {},
   "outputs": [],
   "source": [
    "# pylandau from https://github.com/SiLab-Bonn/pylandau\n",
    "from pylandau import langau"
   ]
  },
  {
   "cell_type": "code",
   "execution_count": 33,
   "metadata": {},
   "outputs": [],
   "source": [
    "from scipy.optimize import curve_fit"
   ]
  },
  {
   "cell_type": "code",
   "execution_count": 85,
   "metadata": {},
   "outputs": [],
   "source": [
    "# area normalize distributions\n",
    "# photons\n",
    "vals_gamma,bine_gamma = np.histogram(dedx_gamma_v,bins=BINS)\n",
    "valsmax_gamma = np.max(vals_gamma)\n",
    "vals_gamma = vals_gamma.astype(float)\n",
    "vals_gamma /= valsmax_gamma\n",
    "binc_gamma = 0.5*(bine_gamma[1:]+bine_gamma[:-1])\n",
    "# electrons\n",
    "vals_elec,bine_elec = np.histogram(dedx_elec_v,bins=BINS)\n",
    "valsmax_elec = np.max(vals_elec)\n",
    "vals_elec = vals_elec.astype(float)\n",
    "vals_elec /= valsmax_elec\n",
    "binc_elec = 0.5*(bine_elec[1:]+bine_elec[:-1])"
   ]
  },
  {
   "cell_type": "code",
   "execution_count": 86,
   "metadata": {},
   "outputs": [
    {
     "name": "stdout",
     "output_type": "stream",
     "text": [
      "WARNING: eta < 1 not supported and set to 1! Scale x to fix.\n",
      "WARNING: eta < 1 not supported and set to 1! Scale x to fix.\n",
      "WARNING: eta < 1 not supported and set to 1! Scale x to fix.\n",
      "WARNING: eta < 1 not supported and set to 1! Scale x to fix.\n",
      "WARNING: eta < 1 not supported and set to 1! Scale x to fix.\n",
      "WARNING: eta < 1 not supported and set to 1! Scale x to fix.\n",
      "WARNING: eta < 1 not supported and set to 1! Scale x to fix.\n",
      "WARNING: eta < 1 not supported and set to 1! Scale x to fix.\n",
      "WARNING: eta < 1 not supported and set to 1! Scale x to fix.\n",
      "WARNING: eta < 1 not supported and set to 1! Scale x to fix.\n",
      "WARNING: eta < 1 not supported and set to 1! Scale x to fix.\n",
      "WARNING: eta < 1 not supported and set to 1! Scale x to fix.\n",
      "WARNING: eta < 1 not supported and set to 1! Scale x to fix.\n",
      "WARNING: eta < 1 not supported and set to 1! Scale x to fix.\n",
      "WARNING: eta < 1 not supported and set to 1! Scale x to fix.\n",
      "WARNING: eta < 1 not supported and set to 1! Scale x to fix.\n",
      "WARNING: eta < 1 not supported and set to 1! Scale x to fix.\n",
      "WARNING: eta < 1 not supported and set to 1! Scale x to fix.\n",
      "WARNING: eta < 1 not supported and set to 1! Scale x to fix.\n",
      "WARNING: eta < 1 not supported and set to 1! Scale x to fix.\n",
      "WARNING: eta < 1 not supported and set to 1! Scale x to fix.\n",
      "WARNING: eta < 1 not supported and set to 1! Scale x to fix.\n",
      "WARNING: eta < 1 not supported and set to 1! Scale x to fix.\n",
      "WARNING: eta < 1 not supported and set to 1! Scale x to fix.\n",
      "WARNING: eta < 1 not supported and set to 1! Scale x to fix.\n",
      "WARNING: eta < 1 not supported and set to 1! Scale x to fix.\n",
      "WARNING: eta < 1 not supported and set to 1! Scale x to fix.\n",
      "WARNING: eta < 1 not supported and set to 1! Scale x to fix.\n",
      "WARNING: eta < 1 not supported and set to 1! Scale x to fix.\n",
      "WARNING: eta < 1 not supported and set to 1! Scale x to fix.\n",
      "WARNING: eta < 1 not supported and set to 1! Scale x to fix.\n",
      "WARNING: eta < 1 not supported and set to 1! Scale x to fix.\n",
      "WARNING: eta < 1 not supported and set to 1! Scale x to fix.\n",
      "WARNING: eta < 1 not supported and set to 1! Scale x to fix.\n",
      "WARNING: eta < 1 not supported and set to 1! Scale x to fix.\n",
      "WARNING: eta < 1 not supported and set to 1! Scale x to fix.\n",
      "WARNING: eta < 1 not supported and set to 1! Scale x to fix.\n",
      "WARNING: eta < 1 not supported and set to 1! Scale x to fix.\n",
      "WARNING: eta < 1 not supported and set to 1! Scale x to fix.\n",
      "WARNING: eta < 1 not supported and set to 1! Scale x to fix.\n",
      "WARNING: eta < 1 not supported and set to 1! Scale x to fix.\n",
      "WARNING: eta < 1 not supported and set to 1! Scale x to fix.\n",
      "WARNING: eta < 1 not supported and set to 1! Scale x to fix.\n",
      "WARNING: eta < 1 not supported and set to 1! Scale x to fix.\n",
      "WARNING: eta < 1 not supported and set to 1! Scale x to fix.\n",
      "WARNING: eta < 1 not supported and set to 1! Scale x to fix.\n",
      "WARNING: eta < 1 not supported and set to 1! Scale x to fix.\n"
     ]
    }
   ],
   "source": [
    "guess_gamma = [4.0,0.2,0.2] # MPV, Landau sigma, gauss sigma in that order\n",
    "guess_elec  = [2.0,0.1,0.1]\n",
    "#popt_gamma,popv_gamma = curve_fit(landgaunormed,binc_gamma,vals_gamma,p0=guess_gamma)\n",
    "popt_elec ,popv_elec = curve_fit(langau,binc_elec[10:-1] ,vals_elec[10:-1] ,p0=guess_elec,bounds=([1.9,0,0],[2.2,0.4,0.4]))"
   ]
  },
  {
   "cell_type": "code",
   "execution_count": 87,
   "metadata": {},
   "outputs": [
    {
     "name": "stdout",
     "output_type": "stream",
     "text": [
      "[ 0.74419606 -0.00320441  0.2        -2.72327897]\n",
      "[1.90000000e+00 1.00000000e-01 6.81345644e-04]\n"
     ]
    }
   ],
   "source": [
    "print(popt_gamma)\n",
    "print(popt_elec)"
   ]
  },
  {
   "cell_type": "code",
   "execution_count": 88,
   "metadata": {},
   "outputs": [
    {
     "name": "stdout",
     "output_type": "stream",
     "text": [
      "WARNING: eta < 1 not supported and set to 1! Scale x to fix.\n",
      "WARNING: eta < 1 not supported and set to 1! Scale x to fix.\n"
     ]
    },
    {
     "data": {
      "image/png": "[encoded data removed]",
      "text/plain": [
       "<Figure size 720x432 with 1 Axes>"
      ]
     },
     "metadata": {},
     "output_type": "display_data"
    }
   ],
   "source": [
    "fig = plt.figure(figsize=(10,6))\n",
    "\n",
    "plt.hist(dedx_gamma_v,bins=BINS,histtype='step',color='r',lw=2,normed=True,label='photons')\n",
    "plt.hist(dedx_elec_v ,bins=BINS,histtype='step',lw=2,color='b',normed=5,label='electrons')\n",
    "\n",
    "plt.plot(binc_gamma,langau(binc_gamma,*popt_gamma),'r--',lw=3)\n",
    "plt.plot(binc_elec,langau(binc_elec,*popt_elec),'b--',lw=3)\n",
    "plt.grid()\n",
    "plt.xlabel('dE/dx [MeV/cm]')\n",
    "plt.legend(loc=1)\n",
    "plt.show()"
   ]
  },
  {
   "cell_type": "code",
   "execution_count": null,
   "metadata": {},
   "outputs": [],
   "source": []
  }
 ],
 "metadata": {
  "kernelspec": {
   "display_name": "Python 2",
   "language": "python",
   "name": "python2"
  },
  "language_info": {
   "codemirror_mode": {
    "name": "ipython",
    "version": 2
   },
   "file_extension": ".py",
   "mimetype": "text/x-python",
   "name": "python",
   "nbconvert_exporter": "python",
   "pygments_lexer": "ipython2",
   "version": "2.7.15rc1"
  }
 },
 "nbformat": 4,
 "nbformat_minor": 2
}
